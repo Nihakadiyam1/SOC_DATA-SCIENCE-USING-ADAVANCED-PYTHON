{
  "nbformat": 4,
  "nbformat_minor": 0,
  "metadata": {
    "colab": {
      "provenance": []
    },
    "kernelspec": {
      "name": "python3",
      "display_name": "Python 3"
    },
    "language_info": {
      "name": "python"
    }
  },
  "cells": [
    {
      "cell_type": "code",
      "source": [
        "import numpy\n",
        "l1 = [1,2,3,4,5]\n",
        "arr = numpy.array(l1)\n",
        "print(arr)"
      ],
      "metadata": {
        "colab": {
          "base_uri": "https://localhost:8080/"
        },
        "id": "VfcWD_NCgt8D",
        "outputId": "b44e4ef4-861f-40fb-e5d1-da1ed9134b85"
      },
      "execution_count": null,
      "outputs": [
        {
          "output_type": "stream",
          "name": "stdout",
          "text": [
            "[1 2 3 4 5]\n"
          ]
        }
      ]
    },
    {
      "cell_type": "code",
      "source": [
        "import numpy\n",
        "l2 = (1,2,3,4,5)\n",
        "arr = numpy.array(l1)\n",
        "print(arr)\n",
        "arr1 = tuple(arr)\n",
        "print(arr1)\n",
        "arr.dtype"
      ],
      "metadata": {
        "colab": {
          "base_uri": "https://localhost:8080/"
        },
        "id": "roI0JxJmgLdH",
        "outputId": "f356a81e-d4cf-4e39-fb55-b3b7de70163f"
      },
      "execution_count": null,
      "outputs": [
        {
          "output_type": "stream",
          "name": "stdout",
          "text": [
            "[1 2 3 4 5]\n",
            "(1, 2, 3, 4, 5)\n"
          ]
        },
        {
          "output_type": "execute_result",
          "data": {
            "text/plain": [
              "dtype('int64')"
            ]
          },
          "metadata": {},
          "execution_count": 101
        }
      ]
    },
    {
      "cell_type": "code",
      "source": [
        "import numpy\n",
        "l2 = {1,2,3,4,5}\n",
        "arr = numpy.array(l2)\n",
        "print(arr)"
      ],
      "metadata": {
        "colab": {
          "base_uri": "https://localhost:8080/"
        },
        "id": "jv_hYt45htZe",
        "outputId": "0826f185-61d4-473f-8dcb-af44c1c9eee8"
      },
      "execution_count": null,
      "outputs": [
        {
          "output_type": "stream",
          "name": "stdout",
          "text": [
            "{1, 2, 3, 4, 5}\n"
          ]
        }
      ]
    },
    {
      "cell_type": "code",
      "source": [],
      "metadata": {
        "id": "2Kca9z1-iYj1"
      },
      "execution_count": null,
      "outputs": []
    },
    {
      "cell_type": "code",
      "source": [
        "import numpy\n",
        "l3 = (\"harika\",\"hello\",\"bye\")\n",
        "arr = numpy.array(l3)\n",
        "print(arr)\n",
        "arr.tolist()"
      ],
      "metadata": {
        "colab": {
          "base_uri": "https://localhost:8080/"
        },
        "id": "l6wedxmlh9v6",
        "outputId": "fa916eda-d671-4ef0-c66b-7b0f602c1ed8"
      },
      "execution_count": null,
      "outputs": [
        {
          "output_type": "stream",
          "name": "stdout",
          "text": [
            "['harika' 'hello' 'bye']\n"
          ]
        },
        {
          "output_type": "execute_result",
          "data": {
            "text/plain": [
              "['harika', 'hello', 'bye']"
            ]
          },
          "metadata": {},
          "execution_count": 104
        }
      ]
    },
    {
      "cell_type": "code",
      "source": [
        "class c1:\n",
        "  name = \"hari\"\n",
        "  age = 12\n",
        "\n",
        "obj = c1()\n",
        "print(obj.name)\n",
        "print(obj.age)\n"
      ],
      "metadata": {
        "colab": {
          "base_uri": "https://localhost:8080/"
        },
        "id": "91Y5aw12iYYd",
        "outputId": "d66bc0a6-435c-4910-969e-f7fc5d8fb704"
      },
      "execution_count": null,
      "outputs": [
        {
          "output_type": "stream",
          "name": "stdout",
          "text": [
            "hari\n",
            "12\n"
          ]
        }
      ]
    },
    {
      "cell_type": "code",
      "source": [
        "import numpy\n",
        "dic = {1:\"hari\",2:\"bye\"}\n",
        "arr = numpy.array(dic)\n",
        "print(arr)\n",
        "arr.tolist()\n",
        "print(arr)\n",
        "arr.dtype"
      ],
      "metadata": {
        "colab": {
          "base_uri": "https://localhost:8080/"
        },
        "id": "uc1yYc9nkPmt",
        "outputId": "c02acaf5-5dd2-4db6-d544-855c1e59fb75"
      },
      "execution_count": null,
      "outputs": [
        {
          "output_type": "stream",
          "name": "stdout",
          "text": [
            "{1: 'hari', 2: 'bye'}\n",
            "{1: 'hari', 2: 'bye'}\n"
          ]
        },
        {
          "output_type": "execute_result",
          "data": {
            "text/plain": [
              "dtype('O')"
            ]
          },
          "metadata": {},
          "execution_count": 103
        }
      ]
    },
    {
      "cell_type": "code",
      "source": [
        "import numpy\n",
        "l2 = [1,2,3,4,5]\n",
        "l1 = list(l2)\n",
        "print(type(l1))\n",
        "print(l1)"
      ],
      "metadata": {
        "colab": {
          "base_uri": "https://localhost:8080/"
        },
        "id": "u1iOpHZylE-m",
        "outputId": "9d73cc5f-fa7f-4fa1-e3af-fab61a7d49e1"
      },
      "execution_count": null,
      "outputs": [
        {
          "output_type": "stream",
          "name": "stdout",
          "text": [
            "<class 'list'>\n",
            "[1, 2, 3, 4, 5]\n"
          ]
        }
      ]
    },
    {
      "cell_type": "code",
      "source": [
        "import numpy\n",
        "l2 = [1,2,3,4,5]\n",
        "l1 = tuple(l2)\n",
        "print(l1)"
      ],
      "metadata": {
        "colab": {
          "base_uri": "https://localhost:8080/"
        },
        "id": "tAeLIpczmDnI",
        "outputId": "7cd3e4b0-4045-470e-dfa0-3a9297beffcf"
      },
      "execution_count": null,
      "outputs": [
        {
          "output_type": "stream",
          "name": "stdout",
          "text": [
            "(1, 2, 3, 4, 5)\n"
          ]
        }
      ]
    },
    {
      "cell_type": "code",
      "source": [
        "import numpy\n",
        "l2 = [1,2,3,4,5]\n",
        "for i in l2:\n",
        "  m= i*2\n",
        "  print(numpy.array(m))"
      ],
      "metadata": {
        "colab": {
          "base_uri": "https://localhost:8080/"
        },
        "id": "CV8jxnSinmzB",
        "outputId": "6ed0579b-9f6b-4394-f48f-50b1d33d63d8"
      },
      "execution_count": null,
      "outputs": [
        {
          "output_type": "stream",
          "name": "stdout",
          "text": [
            "2\n",
            "4\n",
            "6\n",
            "8\n",
            "10\n"
          ]
        }
      ]
    },
    {
      "cell_type": "code",
      "source": [
        "import numpy\n",
        "new = numpy.append(l2,100)\n",
        "new"
      ],
      "metadata": {
        "colab": {
          "base_uri": "https://localhost:8080/"
        },
        "id": "GW6ex715pYQN",
        "outputId": "4a05dcf4-31c0-4875-fbaf-c2a00c7c5fc3"
      },
      "execution_count": null,
      "outputs": [
        {
          "output_type": "execute_result",
          "data": {
            "text/plain": [
              "array([  1,   2,   3,   4,   5, 100])"
            ]
          },
          "metadata": {},
          "execution_count": 118
        }
      ]
    },
    {
      "cell_type": "code",
      "source": [
        "#adding multiple values\n",
        "#syntax: numpy.append(values also lists and tuples)\n",
        "new = numpy.append(l2,[11,2,33,44,55])\n",
        "new\n"
      ],
      "metadata": {
        "colab": {
          "base_uri": "https://localhost:8080/"
        },
        "id": "Xvdg9rLKqCyZ",
        "outputId": "28273126-950b-4e66-daff-451528af9599"
      },
      "execution_count": null,
      "outputs": [
        {
          "output_type": "execute_result",
          "data": {
            "text/plain": [
              "array([ 1,  2,  3,  4,  5, 11,  2, 33, 44, 55])"
            ]
          },
          "metadata": {},
          "execution_count": 119
        }
      ]
    },
    {
      "cell_type": "code",
      "source": [
        "#insert()\n",
        "#syntax:numpy.insert(arrayname,indexposition,value)\n",
        "l = [1,2,3,4]\n",
        "new = numpy.insert(l,3,5)\n",
        "print(new)\n"
      ],
      "metadata": {
        "colab": {
          "base_uri": "https://localhost:8080/"
        },
        "id": "D0QPYbvOqemV",
        "outputId": "79687637-41d9-41f7-a491-d94f752d54d7"
      },
      "execution_count": null,
      "outputs": [
        {
          "output_type": "stream",
          "name": "stdout",
          "text": [
            "[1 2 3 5 4]\n"
          ]
        }
      ]
    },
    {
      "cell_type": "code",
      "source": [
        "#to insert multiple values inside the array\n",
        "#syntax:numpy.insert(arrayname,indexposition,values or tuple)\n",
        "l = [1,2,3,4,11]\n",
        "new = numpy.insert(l,3,(11,22,33))\n",
        "print(new)\n"
      ],
      "metadata": {
        "colab": {
          "base_uri": "https://localhost:8080/"
        },
        "id": "e9anFoROrWxe",
        "outputId": "a3f0bfda-bcf7-447e-c5fb-afb90dc30fae"
      },
      "execution_count": null,
      "outputs": [
        {
          "output_type": "stream",
          "name": "stdout",
          "text": [
            "[ 1  2  3 11 22 33  4 11]\n"
          ]
        }
      ]
    },
    {
      "cell_type": "code",
      "source": [],
      "metadata": {
        "id": "of2xvwINm88P"
      },
      "execution_count": null,
      "outputs": []
    },
    {
      "cell_type": "code",
      "source": [
        "#to delete element\n",
        "#syntax:numpy.delete(arrayname,numpy.where(arrayname==value))\n",
        "l = [1,2,3,4,11]\n",
        "arr4 = numpy.delete(l,numpy.where(l==11))\n",
        "arr4"
      ],
      "metadata": {
        "colab": {
          "base_uri": "https://localhost:8080/"
        },
        "id": "y2YXn0EcsL08",
        "outputId": "da19f754-1278-46ee-845f-cc0ff01b9561"
      },
      "execution_count": null,
      "outputs": [
        {
          "output_type": "execute_result",
          "data": {
            "text/plain": [
              "array([ 1,  2,  3,  4, 11])"
            ]
          },
          "metadata": {},
          "execution_count": 28
        }
      ]
    },
    {
      "cell_type": "code",
      "source": [
        "#t0 delete number of values in an array\n",
        "#syntax:numpy.setdiff1d(arrayname,[index values])\n",
        "new = numpy.setdiff1d(l,[1,3,2])\n",
        "new"
      ],
      "metadata": {
        "colab": {
          "base_uri": "https://localhost:8080/"
        },
        "id": "HRMBQenjuEh4",
        "outputId": "a8fd4b4c-69bc-4b55-f562-1eb4a5970045"
      },
      "execution_count": null,
      "outputs": [
        {
          "output_type": "execute_result",
          "data": {
            "text/plain": [
              "array([ 4, 11])"
            ]
          },
          "metadata": {},
          "execution_count": 147
        }
      ]
    },
    {
      "cell_type": "code",
      "source": [
        "#to delete based on index\n",
        "#synatx:numpy.dlete(index values)\n",
        "new= numpy.delete(l,4)\n",
        "new"
      ],
      "metadata": {
        "colab": {
          "base_uri": "https://localhost:8080/"
        },
        "id": "jXpHnST5ulcG",
        "outputId": "80150962-5ee3-49d8-bca8-16792795ff03"
      },
      "execution_count": null,
      "outputs": [
        {
          "output_type": "execute_result",
          "data": {
            "text/plain": [
              "array([1, 2, 3, 4])"
            ]
          },
          "metadata": {},
          "execution_count": 148
        }
      ]
    },
    {
      "cell_type": "code",
      "source": [
        "#to delete multiple values based on index poistion\n",
        "#syntax: numpy.delete(values)\n",
        "new = numpy.delete(l,[1,2]) #1,2,3,4,11\n",
        "new"
      ],
      "metadata": {
        "colab": {
          "base_uri": "https://localhost:8080/"
        },
        "id": "yVbIeBK_uzmC",
        "outputId": "97a90881-f2f6-4488-df08-8a4de927a8e0"
      },
      "execution_count": null,
      "outputs": [
        {
          "output_type": "execute_result",
          "data": {
            "text/plain": [
              "array([ 1,  4, 11])"
            ]
          },
          "metadata": {},
          "execution_count": 150
        }
      ]
    },
    {
      "cell_type": "code",
      "source": [
        "l1 = [1,2,3,4,5,6,7,8,9]\n",
        "new = numpy.array(l1)\n",
        "new"
      ],
      "metadata": {
        "colab": {
          "base_uri": "https://localhost:8080/"
        },
        "id": "z8BbVYy0uzix",
        "outputId": "11033ba0-6f79-4ff2-f79e-71d5091a219b"
      },
      "execution_count": null,
      "outputs": [
        {
          "output_type": "execute_result",
          "data": {
            "text/plain": [
              "array([1, 2, 3, 4, 5, 6, 7, 8, 9])"
            ]
          },
          "metadata": {},
          "execution_count": 154
        }
      ]
    },
    {
      "cell_type": "code",
      "source": [
        "#filter in numpy array into boolean values\n",
        "#syntax: numpy.array(arrayname)\n",
        "l1 = [1,2,3,4,5,6,7,8,9]\n",
        "new = numpy.array(l1)\n",
        "new\n",
        "new < 10"
      ],
      "metadata": {
        "colab": {
          "base_uri": "https://localhost:8080/"
        },
        "id": "3786hfskvulg",
        "outputId": "e896f3de-8f72-4d89-b97a-9ea8f6da98e8"
      },
      "execution_count": null,
      "outputs": [
        {
          "output_type": "execute_result",
          "data": {
            "text/plain": [
              "array([ True,  True,  True,  True,  True,  True,  True,  True,  True])"
            ]
          },
          "metadata": {},
          "execution_count": 29
        }
      ]
    },
    {
      "cell_type": "code",
      "source": [
        "#print the boolean values into list\n",
        "new = numpy.array(l1)\n",
        "new[new<30]"
      ],
      "metadata": {
        "colab": {
          "base_uri": "https://localhost:8080/"
        },
        "id": "xE2JQ1Glv9Nu",
        "outputId": "f9937029-08c0-4a5d-a017-50d478273d01"
      },
      "execution_count": null,
      "outputs": [
        {
          "output_type": "execute_result",
          "data": {
            "text/plain": [
              "array([1, 2, 3, 4, 5, 6, 7, 8, 9])"
            ]
          },
          "metadata": {},
          "execution_count": 30
        }
      ]
    },
    {
      "cell_type": "code",
      "source": [
        "new[(new < 10) & (new>1)]\n"
      ],
      "metadata": {
        "colab": {
          "base_uri": "https://localhost:8080/"
        },
        "id": "CxAfFl21wQlp",
        "outputId": "7aec040d-10bf-4745-86e5-80a6da89f7a8"
      },
      "execution_count": null,
      "outputs": [
        {
          "output_type": "execute_result",
          "data": {
            "text/plain": [
              "array([2, 3, 4, 5, 6, 7, 8, 9])"
            ]
          },
          "metadata": {},
          "execution_count": 182
        }
      ]
    },
    {
      "cell_type": "code",
      "source": [
        "#to create id array full of 0's\n",
        "#syntax: numpy.zeros(no of values)\n",
        "numpy.zeros(10)"
      ],
      "metadata": {
        "colab": {
          "base_uri": "https://localhost:8080/"
        },
        "id": "Q8KdfYKVzidL",
        "outputId": "b53dcfc8-5ac8-4403-aa97-d303ceee9ebd"
      },
      "execution_count": null,
      "outputs": [
        {
          "output_type": "execute_result",
          "data": {
            "text/plain": [
              "array([0., 0., 0., 0., 0., 0., 0., 0., 0., 0.])"
            ]
          },
          "metadata": {},
          "execution_count": 31
        }
      ]
    },
    {
      "cell_type": "code",
      "source": [
        "#to create 2d array full of 0's\n",
        "numpy.zeros([3,5])\n"
      ],
      "metadata": {
        "colab": {
          "base_uri": "https://localhost:8080/"
        },
        "id": "Pmd2pWOS0DYK",
        "outputId": "122bfdb2-386f-4e49-c3e9-1c3f6b28f7e0"
      },
      "execution_count": null,
      "outputs": [
        {
          "output_type": "execute_result",
          "data": {
            "text/plain": [
              "array([[0., 0., 0., 0., 0.],\n",
              "       [0., 0., 0., 0., 0.],\n",
              "       [0., 0., 0., 0., 0.]])"
            ]
          },
          "metadata": {},
          "execution_count": 174
        }
      ]
    },
    {
      "cell_type": "code",
      "source": [
        "#to craete array full of 1's\n",
        "numpy.ones(1)"
      ],
      "metadata": {
        "colab": {
          "base_uri": "https://localhost:8080/"
        },
        "id": "OPNrVWkb0Q1F",
        "outputId": "f249fa88-711b-44ef-ec74-e057f0ebe50a"
      },
      "execution_count": null,
      "outputs": [
        {
          "output_type": "execute_result",
          "data": {
            "text/plain": [
              "array([1.])"
            ]
          },
          "metadata": {},
          "execution_count": 175
        }
      ]
    },
    {
      "cell_type": "code",
      "source": [
        "#to create 2d array full of 1's\n",
        "numpy.ones([3,4])"
      ],
      "metadata": {
        "colab": {
          "base_uri": "https://localhost:8080/"
        },
        "id": "zrWFc6Es0YSx",
        "outputId": "ddf8e4b3-bbaf-4cbb-f1f1-7399457162e3"
      },
      "execution_count": null,
      "outputs": [
        {
          "output_type": "execute_result",
          "data": {
            "text/plain": [
              "array([[1., 1., 1., 1.],\n",
              "       [1., 1., 1., 1.],\n",
              "       [1., 1., 1., 1.]])"
            ]
          },
          "metadata": {},
          "execution_count": 176
        }
      ]
    },
    {
      "cell_type": "code",
      "source": [
        "#to convert the element in array\n",
        "#to find the numpy datatype of element present in array\n",
        "#syntax:ar.type(ar)\n",
        "new = numpy.ones([2,3],dtype=float)\n",
        "new\n",
        "\n"
      ],
      "metadata": {
        "colab": {
          "base_uri": "https://localhost:8080/"
        },
        "id": "0YCEH2rB0054",
        "outputId": "1548fd77-bce8-44ef-fc40-ec8dc783070c"
      },
      "execution_count": null,
      "outputs": [
        {
          "output_type": "execute_result",
          "data": {
            "text/plain": [
              "array([[1., 1., 1.],\n",
              "       [1., 1., 1.]])"
            ]
          },
          "metadata": {},
          "execution_count": 215
        }
      ]
    },
    {
      "cell_type": "code",
      "source": [
        "\n",
        "#we can convert the values in numpy array to various bits\n",
        "#they are\n",
        "#int8,int16,int32,int64\n",
        "new = numpy.zeros([2,4], dtype = 'int16')\n",
        "new\n",
        "new = numpy.zeros([2,4], dtype = 'float16')\n",
        "new\n"
      ],
      "metadata": {
        "colab": {
          "base_uri": "https://localhost:8080/"
        },
        "id": "JbGcbHTY2-Ze",
        "outputId": "bf551e80-4585-47a6-e52c-704430f67750"
      },
      "execution_count": null,
      "outputs": [
        {
          "output_type": "execute_result",
          "data": {
            "text/plain": [
              "array([[0., 0., 0., 0.],\n",
              "       [0., 0., 0., 0.]], dtype=float16)"
            ]
          },
          "metadata": {},
          "execution_count": 200
        }
      ]
    },
    {
      "cell_type": "code",
      "source": [
        "new = numpy.zeros([2,4], dtype = 'complex64')\n",
        "new"
      ],
      "metadata": {
        "colab": {
          "base_uri": "https://localhost:8080/"
        },
        "id": "QAuF35Ve4VIM",
        "outputId": "5c2e64ce-0269-44d8-83aa-0f8399be0bf4"
      },
      "execution_count": null,
      "outputs": [
        {
          "output_type": "execute_result",
          "data": {
            "text/plain": [
              "array([[0.+0.j, 0.+0.j, 0.+0.j, 0.+0.j],\n",
              "       [0.+0.j, 0.+0.j, 0.+0.j, 0.+0.j]], dtype=complex64)"
            ]
          },
          "metadata": {},
          "execution_count": 203
        }
      ]
    },
    {
      "cell_type": "code",
      "source": [
        "new = numpy.zeros([2,4], dtype = 'complex64')\n",
        "numpy.int16(new)"
      ],
      "metadata": {
        "colab": {
          "base_uri": "https://localhost:8080/"
        },
        "id": "9WdpzZV-4VEz",
        "outputId": "256af785-f48b-43ca-e761-5a78bf87718e"
      },
      "execution_count": null,
      "outputs": [
        {
          "output_type": "stream",
          "name": "stderr",
          "text": [
            "<ipython-input-205-5b3e82a6f6a8>:2: ComplexWarning: Casting complex values to real discards the imaginary part\n",
            "  numpy.int16(new)\n"
          ]
        },
        {
          "output_type": "execute_result",
          "data": {
            "text/plain": [
              "array([[0, 0, 0, 0],\n",
              "       [0, 0, 0, 0]], dtype=int16)"
            ]
          },
          "metadata": {},
          "execution_count": 205
        }
      ]
    },
    {
      "cell_type": "code",
      "source": [
        "#range of array\n",
        "#syntax: numpy.array(range())\n",
        "l1 = numpy.array(range(1,50))\n",
        "print(l1)"
      ],
      "metadata": {
        "colab": {
          "base_uri": "https://localhost:8080/"
        },
        "id": "6TEBk_gW4yhw",
        "outputId": "4e0cde32-9803-44b2-daa8-499c13fe00ef"
      },
      "execution_count": null,
      "outputs": [
        {
          "output_type": "stream",
          "name": "stdout",
          "text": [
            "[ 1  2  3  4  5  6  7  8  9 10 11 12 13 14 15 16 17 18 19 20 21 22 23 24\n",
            " 25 26 27 28 29 30 31 32 33 34 35 36 37 38 39 40 41 42 43 44 45 46 47 48\n",
            " 49]\n"
          ]
        }
      ]
    },
    {
      "cell_type": "code",
      "source": [
        "#to convert a 1d array to multidimentional arrat\n",
        "new = numpy.ones(1)\n",
        "new\n"
      ],
      "metadata": {
        "colab": {
          "base_uri": "https://localhost:8080/"
        },
        "id": "AYAtiRvB6jSD",
        "outputId": "49806fcf-ec52-478e-91d7-335b9124137e"
      },
      "execution_count": null,
      "outputs": [
        {
          "output_type": "execute_result",
          "data": {
            "text/plain": [
              "array([1.])"
            ]
          },
          "metadata": {},
          "execution_count": 216
        }
      ]
    },
    {
      "cell_type": "code",
      "source": [
        "new = numpy.ones(1),numpy.ones([2,3,6])\n",
        "new"
      ],
      "metadata": {
        "colab": {
          "base_uri": "https://localhost:8080/"
        },
        "id": "kHSbWJQ27Epn",
        "outputId": "0b727fa9-6ca8-468c-80da-cae447ebfac8"
      },
      "execution_count": null,
      "outputs": [
        {
          "output_type": "execute_result",
          "data": {
            "text/plain": [
              "(array([1.]),\n",
              " array([[[1., 1., 1., 1., 1., 1.],\n",
              "         [1., 1., 1., 1., 1., 1.],\n",
              "         [1., 1., 1., 1., 1., 1.]],\n",
              " \n",
              "        [[1., 1., 1., 1., 1., 1.],\n",
              "         [1., 1., 1., 1., 1., 1.],\n",
              "         [1., 1., 1., 1., 1., 1.]]]))"
            ]
          },
          "metadata": {},
          "execution_count": 26
        }
      ]
    },
    {
      "cell_type": "code",
      "source": [
        "#to convert 1d array to multi\n",
        "#syntax: --> numpy.reshape(range)\n",
        "import numpy\n",
        "l1 = numpy.array(range(1,51))\n",
        "print(l1)\n",
        "arr1 = l1.reshape(5,10)\n",
        "print ('After reshaping having dimension 5*10:')\n",
        "print (arr1)\n",
        "print ('\\n')"
      ],
      "metadata": {
        "id": "ewhIBztf9mGM",
        "colab": {
          "base_uri": "https://localhost:8080/"
        },
        "outputId": "b95992df-7e81-4df5-d89e-83b412ce52ce"
      },
      "execution_count": null,
      "outputs": [
        {
          "output_type": "stream",
          "name": "stdout",
          "text": [
            "[ 1  2  3  4  5  6  7  8  9 10 11 12 13 14 15 16 17 18 19 20 21 22 23 24\n",
            " 25 26 27 28 29 30 31 32 33 34 35 36 37 38 39 40 41 42 43 44 45 46 47 48\n",
            " 49 50]\n",
            "After reshaping having dimension 5*10:\n",
            "[[ 1  2  3  4  5  6  7  8  9 10]\n",
            " [11 12 13 14 15 16 17 18 19 20]\n",
            " [21 22 23 24 25 26 27 28 29 30]\n",
            " [31 32 33 34 35 36 37 38 39 40]\n",
            " [41 42 43 44 45 46 47 48 49 50]]\n",
            "\n",
            "\n"
          ]
        }
      ]
    },
    {
      "cell_type": "code",
      "source": [
        "#to create an identity matrix\n",
        "#syntax:--> numpy.identity(upto values)\n",
        "import numpy\n",
        "l1 = numpy.array(range(1,51))\n",
        "print(l1)\n",
        "arr1 = numpy.identity(50)\n",
        "print ('identity matrix of 5*10:')\n",
        "print (arr1)\n",
        "print ('\\n')"
      ],
      "metadata": {
        "colab": {
          "base_uri": "https://localhost:8080/"
        },
        "id": "FW_J_x_EPcUI",
        "outputId": "6286e14a-1d53-4aaa-eb0b-d2b76fcc3779"
      },
      "execution_count": null,
      "outputs": [
        {
          "output_type": "stream",
          "name": "stdout",
          "text": [
            "[ 1  2  3  4  5  6  7  8  9 10 11 12 13 14 15 16 17 18 19 20 21 22 23 24\n",
            " 25 26 27 28 29 30 31 32 33 34 35 36 37 38 39 40 41 42 43 44 45 46 47 48\n",
            " 49 50]\n",
            "identity matrix of 5*10:\n",
            "[[1. 0. 0. ... 0. 0. 0.]\n",
            " [0. 1. 0. ... 0. 0. 0.]\n",
            " [0. 0. 1. ... 0. 0. 0.]\n",
            " ...\n",
            " [0. 0. 0. ... 1. 0. 0.]\n",
            " [0. 0. 0. ... 0. 1. 0.]\n",
            " [0. 0. 0. ... 0. 0. 1.]]\n",
            "\n",
            "\n"
          ]
        }
      ]
    },
    {
      "cell_type": "code",
      "source": [
        "# Slicing with step\n",
        " # Skip every other row and column\n",
        " #syntax:--> arrayname[range of slicling]\n",
        "import numpy\n",
        "l1 = numpy.array(range(1,51))\n",
        "arr1 = l1.reshape(5,10)\n",
        "print(arr1)\n",
        "sliced_matrix = l1[::4]\n",
        "print(sliced_matrix)"
      ],
      "metadata": {
        "colab": {
          "base_uri": "https://localhost:8080/"
        },
        "id": "Zbu7aiXcT6-T",
        "outputId": "4a26b077-b08a-4b3b-8e0a-974bdbf33ae5"
      },
      "execution_count": null,
      "outputs": [
        {
          "output_type": "stream",
          "name": "stdout",
          "text": [
            "[[ 1  2  3  4  5  6  7  8  9 10]\n",
            " [11 12 13 14 15 16 17 18 19 20]\n",
            " [21 22 23 24 25 26 27 28 29 30]\n",
            " [31 32 33 34 35 36 37 38 39 40]\n",
            " [41 42 43 44 45 46 47 48 49 50]]\n",
            "[ 1  5  9 13 17 21 25 29 33 37 41 45 49]\n"
          ]
        }
      ]
    },
    {
      "cell_type": "code",
      "source": [
        "#mean, median, sum, variance, standard deviation\n",
        "#syntax for mean -->arrayname.mean()\n",
        "#syntax for median -->numpy.median(arrayname)\n",
        "#syntax for sum -->arrayname.sum()\n",
        "#syntax for variance --> numpy.var(arrayname)\n",
        "#syntax for standard deviation --> numpy.std(arrayname)\n",
        "print(l1.mean())\n",
        "print(numpy.median(l1))\n",
        "print(l1.sum())\n",
        "print(numpy.var(l1))\n",
        "print(numpy.std(l1))"
      ],
      "metadata": {
        "colab": {
          "base_uri": "https://localhost:8080/"
        },
        "id": "b7efwkhPVtBV",
        "outputId": "42fb7055-0206-4b7f-b8e5-0549c8cc3c83"
      },
      "execution_count": null,
      "outputs": [
        {
          "output_type": "stream",
          "name": "stdout",
          "text": [
            "25.5\n",
            "25.5\n",
            "1275\n",
            "208.25\n",
            "14.430869689661812\n"
          ]
        }
      ]
    }
  ]
}